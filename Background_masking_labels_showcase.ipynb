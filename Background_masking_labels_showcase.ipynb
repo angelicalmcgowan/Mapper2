{
 "cells": [
  {
   "cell_type": "markdown",
   "id": "08536f17",
   "metadata": {},
   "source": [
    "# This notebook shows off Background options in views_mapper2\n",
    "Ensure that the views_mapper2 is up to date with the latest update as documented in main read me file\n",
    "Things covered in this notebook are background options, transparency, masking, and views_experimental labels"
   ]
  },
  {
   "cell_type": "code",
   "execution_count": 1,
   "id": "cf3a60bd",
   "metadata": {},
   "outputs": [
    {
     "name": "stdout",
     "output_type": "stream",
     "text": [
      "Name: views-mapper2\r\n",
      "Version: 1.6.0\r\n",
      "Summary: Mapper version 2 for viewser\r\n",
      "Home-page: \r\n",
      "Author: Malika\r\n",
      "Author-email: malikarakh@gmail.com\r\n",
      "License: \r\n",
      "Location: /Users/malika/miniforge3/envs/viewser/lib/python3.9/site-packages\r\n",
      "Requires: contextily, geopandas, ingester3, matplotlib, numpy, pycountry, sqlalchemy\r\n",
      "Required-by: \r\n"
     ]
    }
   ],
   "source": [
    "#mapper version verification\n",
    "!pip show views_mapper2"
   ]
  },
  {
   "cell_type": "code",
   "execution_count": 2,
   "id": "b751b9fd",
   "metadata": {},
   "outputs": [
    {
     "name": "stdout",
     "output_type": "stream",
     "text": [
      " .    "
     ]
    }
   ],
   "source": [
    "#obtain data, country month\n",
    "from viewser import Queryset, Column\n",
    "\n",
    "queryset = (Queryset(\"Mapper_tester_cm\", \"country_month\")\n",
    "            # CONFLICT TYPES NOT LOGGED and NOT time lagged\n",
    "            .with_column(Column(\"ged_best_sb\", from_table=\"ged2_cm\", from_column=\"ged_sb_best_sum_nokgi\")\n",
    "                         .transform.missing.fill()\n",
    "                         )\n",
    "            # .with_column(Column('name', from_table='country', from_column= 'name')\n",
    "            # the above does not seem to want to work\n",
    "\n",
    "            .with_theme(\"fatalities\")\n",
    "\n",
    "            .describe(\"\"\"Fatalities conflict history, cm level\n",
    "            Mapper testing\n",
    "\n",
    "            \"\"\")\n",
    "\n",
    "            )\n",
    "\n",
    "cm_master = queryset.publish().fetch()"
   ]
  },
  {
   "cell_type": "code",
   "execution_count": 3,
   "id": "bd22fc1d",
   "metadata": {},
   "outputs": [],
   "source": [
    "#fetch the multipolygons for mapping\n",
    "import geopandas as gpd\n",
    "import sqlalchemy as sa\n",
    "from ingester3.config import source_db_path\n",
    "\n",
    "engine = sa.create_engine(source_db_path)\n",
    "gdf_ci_master = gpd.GeoDataFrame.from_postgis(\n",
    "    \"SELECT id as country_id, in_africa, name, in_me, geom FROM prod.country\",\n",
    "    engine,\n",
    "    geom_col='geom'\n",
    ")\n",
    "gdf_ci_master = gdf_ci_master.to_crs(4326)"
   ]
  },
  {
   "cell_type": "code",
   "execution_count": 4,
   "id": "7f135e0f",
   "metadata": {},
   "outputs": [],
   "source": [
    "#Mapper2 \n",
    "from views_mapper2.mapper2 import *\n",
    "from views_mapper2.label_writer import *\n",
    "from views_mapper2.dictionary_writer import *\n",
    "from views_mapper2.BBoxWriter import*"
   ]
  },
  {
   "cell_type": "markdown",
   "id": "688ad617",
   "metadata": {},
   "source": [
    "# showing off the various backgrounds\n",
    "\n",
    "background tiles are essentially jpeg like images that vary depending on the location where we focus. More information on regional information with closer look and less further out. As we are using them in their non-native forms through geopandas, a lot of the original html/web modifiability is lost. So not possible to ask only for country names and large cities. \n",
    "\n",
    "To see examples, please substitute with the names below in the name variable, e.g. name = 'OpenTopoMap'\n",
    "\n",
    "Some of the maps look better as background in masked versions. \n",
    "\n",
    "\n",
    "1. OpenTopoMap - includes both country names and topography, colorful, no built in layered labels so 100% opacity will prevent the view of the country names. Additionally colorful background interferes with the 1:1 use of the colorbar when violence layer is transparent as one must account for underlying color and how it interacts with the transparent overlay. But the general gist of the color is still understandble. Works well for masked versions of specific countries.\n",
    "2. OpenStreetMap - includes names of countries, regions, etc. No topographic data. No build in layered labels so 100% opacity will prevent the view of country names. Monochromatic colorpalette allows for easier interpretation of transparent layer overlayers. \n",
    "3. StamenLite - includes names of countries, regions, etc. No topographic data. Greyscale. Built layer. Does not look good for 100% opacity but this version will still make it possible to see the labels. Due to nature of geopandas, labels occasionally collide with the viewtextbox as they are layered on top of everything. \n",
    "4. StamenWatercolor - same as above but with colorful theme, no country borders build in.\n",
    "5. StamenTerrain - tiles with both country names and terrain, no built in labels so 100% opacity will interfere.\n",
    "6. StamenTerrainBackground - only terrain information of the above\n",
    "7. CartoDBPositron - similar to StamenLite but with slightly less information\n",
    "8. CartoDBVoyager - similar to above, more recent release\n"
   ]
  },
  {
   "cell_type": "code",
   "execution_count": null,
   "id": "6d3dd4a4",
   "metadata": {},
   "outputs": [],
   "source": [
    "data= cm_master.copy()\n",
    "gdf = gdf_ci_master.copy()\n",
    "\n",
    "data = data.join(gdf.set_index(\"country_id\"))\n",
    "gdf = gpd.GeoDataFrame(data, geometry=\"geom\")\n",
    "\n",
    "name = 'CartoDBPositron'\n",
    "\n",
    "\n",
    "a = Mapper2(\n",
    "    width=10,\n",
    "    height=10,\n",
    "    frame_on=True,\n",
    "    title=name, \n",
    "    bbox = bbox_from_cid('ame')\n",
    ").add_layer(\n",
    "    gdf=gdf.loc[450],\n",
    "    map_dictionary = dictionary_stand,\n",
    "    cmap = 'rainbow',\n",
    "    transparency = 1,\n",
    "    edgecolor=\"black\",\n",
    "    linewidth=0.7,\n",
    "    column=\"ged_best_sb\", \n",
    "    background = name\n",
    ").add_views_textbox(\n",
    "    text='hello world, hello world, hello world',\n",
    "    textsize=10)\n",
    "\n",
    "a2 = Mapper2(\n",
    "    width=10,\n",
    "    height=10,\n",
    "    frame_on=True,\n",
    "    title=f'{name}_country', \n",
    "    bbox = bbox_from_cid(79)\n",
    ").add_layer(\n",
    "    gdf=gdf.loc[450],\n",
    "    map_dictionary = dictionary_stand,\n",
    "    cmap = 'rainbow',\n",
    "    transparency = 1,\n",
    "    edgecolor=\"black\",\n",
    "    linewidth=0.7,\n",
    "    column=\"ged_best_sb\", \n",
    "    background = name\n",
    ").add_views_textbox(\n",
    "    text='hello world, hello world, hello world',\n",
    "    textsize=10)\n",
    "\n",
    "b = Mapper2(\n",
    "    width=10,\n",
    "    height=10,\n",
    "    frame_on=True,\n",
    "    title=f'{name}_with_transparency', \n",
    "    bbox = bbox_from_cid('ame')\n",
    ").add_layer(\n",
    "    gdf=gdf.loc[450],\n",
    "    map_dictionary = dictionary_stand,\n",
    "    cmap = 'rainbow',\n",
    "    transparency = 0.5,\n",
    "    edgecolor=\"black\",\n",
    "    linewidth=0.7,\n",
    "    column=\"ged_best_sb\", \n",
    "    background = name\n",
    ").add_views_textbox(\n",
    "    text='hello world, hello world, hello world',\n",
    "    textsize=10)\n",
    "\n",
    "c = Mapper2(\n",
    "    width=10,\n",
    "    height=10,\n",
    "    frame_on=True,\n",
    "    title= f'{name}_only', \n",
    "    bbox = bbox_from_cid('ame')\n",
    ").add_layer(\n",
    "    gdf=gdf.loc[450],\n",
    "    map_dictionary = dictionary_stand,\n",
    "    cmap = 'rainbow',\n",
    "    transparency = 0.0,\n",
    "    edgecolor=\"black\",\n",
    "    linewidth=0.7,\n",
    "    column=\"ged_best_sb\", \n",
    "    background = name\n",
    ").add_views_textbox(\n",
    "    text='hello world, hello world, hello world',\n",
    "    textsize=10)"
   ]
  },
  {
   "cell_type": "markdown",
   "id": "f8c6a489",
   "metadata": {},
   "source": [
    "# Experimental labels\n",
    "\n",
    "experimental labels are my own creation. It creates and centers a name in the country geometry\n",
    "works at variable success rate\n",
    "adjustment of the font size can result in improved results\n",
    "recommend with zoom in on specific countries\n",
    "\n",
    "adjust font to note how sometimes labels work and other times they start to collide"
   ]
  },
  {
   "cell_type": "code",
   "execution_count": null,
   "id": "95de35d6",
   "metadata": {},
   "outputs": [],
   "source": [
    "data= cm_master.copy()\n",
    "gdf = gdf_ci_master.copy()\n",
    "\n",
    "data = data.join(gdf.set_index(\"country_id\"))\n",
    "gdf = gpd.GeoDataFrame(data, geometry=\"geom\")\n",
    "\n",
    "font = 10\n",
    "\n",
    "\n",
    "a = Mapper2(\n",
    "    width=10,\n",
    "    height=10,\n",
    "    frame_on=True,\n",
    "    title='views_experimental1', \n",
    "    bbox = bbox_from_cid('ame')\n",
    ").add_layer(\n",
    "    gdf=gdf.loc[450],\n",
    "    map_dictionary = dictionary_stand,\n",
    "    cmap = 'rainbow',\n",
    "    transparency = 1,\n",
    "    edgecolor=\"black\",\n",
    "    linewidth=0.7,\n",
    "    column=\"ged_best_sb\",\n",
    "    views_experimental_labels = 10\n",
    ").add_views_textbox(\n",
    "    text='hello world, hello world, hello world',\n",
    "    textsize=10)\n",
    "\n",
    "a2 = Mapper2(\n",
    "    width=10,\n",
    "    height=10,\n",
    "    frame_on=True,\n",
    "    title= 'views_experimental2', \n",
    "    bbox = bbox_from_cid(79)\n",
    ").add_layer(\n",
    "    gdf=gdf.loc[450],\n",
    "    map_dictionary = dictionary_stand,\n",
    "    cmap = 'rainbow',\n",
    "    transparency = 1,\n",
    "    edgecolor=\"black\",\n",
    "    linewidth=0.7,\n",
    "    column=\"ged_best_sb\",\n",
    "    views_experimental_labels = font\n",
    ").add_views_textbox(\n",
    "    text='hello world, hello world, hello world',\n",
    "    textsize=10)"
   ]
  },
  {
   "cell_type": "markdown",
   "id": "3922309e",
   "metadata": {},
   "source": [
    "## Masks\n",
    "\n",
    "Masks allow for greying out of the regions not of interest\n",
    "The available sections are africa, africa+middle east, and country\n",
    "Masks can be combined with the backgrounds as underlying layers or on their own"
   ]
  },
  {
   "cell_type": "code",
   "execution_count": 8,
   "id": "f551b9d8",
   "metadata": {},
   "outputs": [
    {
     "data": {
      "text/plain": [
       "[0, 100, 300, 1000, 3000]"
      ]
     },
     "execution_count": 8,
     "metadata": {},
     "output_type": "execute_result"
    }
   ],
   "source": [
    "standard_scale"
   ]
  },
  {
   "cell_type": "code",
   "execution_count": null,
   "id": "53ce0ffb",
   "metadata": {},
   "outputs": [],
   "source": [
    "#Masking using layers, this version of masking is required if you wish to use no background\n",
    "#essentially you create a layer where all values are grey-scaled and placing a mask over the top\n",
    "#changing transparency of the base layer can help achieve a more or less washed out appearance\n",
    "\n",
    "#adjust font to see differences in the views_labels\n",
    "\n",
    "data= cm_master.copy()\n",
    "gdf = gdf_ci_master.copy()\n",
    "\n",
    "data = data.join(gdf.set_index(\"country_id\"))\n",
    "gdf = gpd.GeoDataFrame(data, geometry=\"geom\")\n",
    "\n",
    "background = 10\n",
    "font = 10\n",
    "\n",
    "\n",
    "ame=Mapper2(\n",
    "    width=20,\n",
    "    height=20,\n",
    "    frame_on=True,\n",
    "    title='mask with layers',\n",
    "    bbox=bbox_from_cid('ame')\n",
    ").add_layer(gdf=data,\n",
    "            map_dictionary=dictionary_stand,\n",
    "            cmap='binary',\n",
    "            edgecolor=\"black\",\n",
    "            linewidth=0.5,\n",
    "            column='ged_best_sb',\n",
    "            transparency = 1   \n",
    "                        ).add_mask(\n",
    "                            gdf = data_run,\n",
    "                            map_dictionary = dict_run,\n",
    "                            cmap = 'rainbow',\n",
    "                            transparency = 1,\n",
    "                            masking_location = region_name,\n",
    "                            column=var_run,\n",
    "                            background = None,\n",
    "                            views_experimental_labels = views_experimental_labels_font_size,\n",
    "                            edgecolor=\"black\",\n",
    "                            linewidth=1,\n",
    "                        ).add_views_textbox(\n",
    "                            text=textbox,\n",
    "                            textsize=textbox_font_size)"
   ]
  }
 ],
 "metadata": {
  "kernelspec": {
   "display_name": "Python 3 (ipykernel)",
   "language": "python",
   "name": "python3"
  },
  "language_info": {
   "codemirror_mode": {
    "name": "ipython",
    "version": 3
   },
   "file_extension": ".py",
   "mimetype": "text/x-python",
   "name": "python",
   "nbconvert_exporter": "python",
   "pygments_lexer": "ipython3",
   "version": "3.9.13"
  }
 },
 "nbformat": 4,
 "nbformat_minor": 5
}
