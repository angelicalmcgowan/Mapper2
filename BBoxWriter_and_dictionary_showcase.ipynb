{
 "cells": [
  {
   "cell_type": "markdown",
   "id": "cd67d4b3",
   "metadata": {},
   "source": [
    "# The following notebook is a short introduction to the bbox writer and dictionaries"
   ]
  },
  {
   "cell_type": "markdown",
   "id": "e5d31445",
   "metadata": {},
   "source": [
    "## First for description of the bounding box writer\n",
    "- BBox (Bounding box) is used by the geopandas to define the regions that you wish to graph in a given run\n",
    "- it is essentially geopgraphic coordinates\n",
    "- you can enter any coordinates using the bbox notation [left, right, bottom, top]\n",
    "- you can use websites to look up custom bounding boxes like this one. http://bboxfinder.com/\n",
    "- for your convenience, some bbox have been automated"
   ]
  },
  {
   "cell_type": "code",
   "execution_count": null,
   "id": "ba0016ab",
   "metadata": {},
   "outputs": [],
   "source": [
    "from views_mapper2.BBoxWriter import*\n",
    "from views_mapper2.label_writer import *"
   ]
  },
  {
   "cell_type": "code",
   "execution_count": null,
   "id": "1f1fe6c3",
   "metadata": {},
   "outputs": [],
   "source": [
    "#function 1, bbox_from_cid\n",
    "\n",
    "#this function takes country id or named regions and returns a bounding box\n",
    "#named options are globe, ame = africa and middle east, africa\n",
    "#numeric country id gives a small bounding box around a country of interest\n",
    "\n",
    "#note you can combine this function with those that live in the label writer as shown below\n",
    "\n",
    "display(bbox_from_cid('globe'))\n",
    "display(bbox_from_cid('ame'))\n",
    "display(bbox_from_cid('africa'))\n",
    "display(bbox_from_cid(79))\n",
    "display(bbox_from_cid(name_date2cid('Cuba', '2022-05-01')))"
   ]
  },
  {
   "cell_type": "code",
   "execution_count": null,
   "id": "a1c90a5b",
   "metadata": {},
   "outputs": [],
   "source": [
    "#function 2, bbox_from_cid_region\n",
    "\n",
    "#this is identical to the above, except when making bounding boxes for countries, the bbox is wider around the country\n",
    "#encompassing more of the region\n",
    "\n",
    "display(bbox_from_cid_region('globe'))\n",
    "display(bbox_from_cid_region('ame'))\n",
    "display(bbox_from_cid_region('africa'))\n",
    "display(bbox_from_cid_region(79))\n",
    "display(bbox_from_cid_region(name_date2cid('Cuba', '2022-05-01')))"
   ]
  },
  {
   "cell_type": "markdown",
   "id": "fa5ec79e",
   "metadata": {},
   "source": [
    "## Second for description of dictionaries \n",
    "\n",
    "- these functions are used to customize or standardize scales for the maps\n",
    "- if none are chosen, the scales are set to the max and min values of a particular variable that is being mapped\n",
    "- scales and dictionaries allow for standard scale use, allowing for ease of comparison of multiple maps to each other\n",
    "- as colors in each mean the same thing\n",
    "\n",
    "- dictionaries allow for both setting of values but also displaying what those values stand for \n",
    "- i recommend to use dictionaries as these are easier to interpret\n",
    "- dictionaries have two components, the label and the value"
   ]
  },
  {
   "cell_type": "code",
   "execution_count": null,
   "id": "d24d2493",
   "metadata": {},
   "outputs": [],
   "source": [
    "from views_mapper2.dictionary_writer import *"
   ]
  },
  {
   "cell_type": "code",
   "execution_count": null,
   "id": "ee545fcb",
   "metadata": {},
   "outputs": [],
   "source": [
    "#standard dictionaries\n",
    "\n",
    "display(dictionary_stand)  #note this is useful for non-transformed variables\n",
    "display(dictionary_stand_1p) #note this is useful for variables that have been log1p transformed\n",
    "display(dictionary_stand_2p) #this is useful for vars that have been log1p transformed twice\n",
    "\n",
    "display(dictionary_stand_10k) #non-transformed variable, goes up to 10k\n",
    "display(dictionary_stand_1p_10k) #log transformed once, goes up to 10k\n",
    "display(dictionary_stand_2p_10k) #log transformed twice, goes up to 10k\n",
    "\n",
    "\n",
    "display(dictionary_dichotomous_stand) #standard dictionary for dichotomous outcomes"
   ]
  },
  {
   "cell_type": "code",
   "execution_count": null,
   "id": "50c76bc4",
   "metadata": {},
   "outputs": [],
   "source": [
    "#making your own dictionaries for values you wish available for normal, once log transformed, and twice log transformed\n",
    "\n",
    "\n",
    "custom_scale = [0, 10, 75, 400, 830, 1000000000]\n",
    "custom_norm = norm_dict(custom_scale)\n",
    "custom_1p = log1p_dict(custom_scale)\n",
    "custom_2p = log2p_dict(custom_scale)\n",
    "\n",
    "display(custom_norm, custom_1p, custom_2p)"
   ]
  },
  {
   "cell_type": "code",
   "execution_count": null,
   "id": "2e415313",
   "metadata": {},
   "outputs": [],
   "source": [
    "#you do not have to use pre-set function, as long as the dictionary is in the format 'label': value, it will work\n",
    "#this might just take more time to make\n",
    "\n",
    "ludicrous_dictionary = {'lemon':0, 'apple':100, 'pineapple': 500}\n",
    "ludicrous_1p = {'lemon_log1':0, 'apple_log1':np.log1p(100), 'pineapple_log1': np.log1p(500)}\n",
    "ludicrous_2p = {'lemon_log2':0, 'apple_log2':np.log1p(np.log1p(100)), \n",
    "                'pineapple_log2': np.log1p(np.log1p(500))}\n",
    "display(ludicrous_dictionary, ludicrous_1p, ludicrous_2p)"
   ]
  },
  {
   "cell_type": "code",
   "execution_count": null,
   "id": "243c3cc9",
   "metadata": {},
   "outputs": [],
   "source": [
    "#last function is useful for recursive runs \n",
    "#it takes the variable name and using the preset variable description identifies which dictionary to use\n",
    "#inputs required, name of the variable in string format, dictionary_0 = what do you want to use if non-transformed\n",
    "#dictionary_log1 = what dictionary to use if transformed log once, dictionary_log2 = what dict for twice log \n",
    "\n",
    "#make sure to match the dictionary types correctly, don't type in the dictionary made for normal variables as option\n",
    "#for double log transformed once\n",
    "\n",
    "#for function to work, the variables have to follow the following nomenclature rules\n",
    "#if log transformed once, start with ln1\n",
    "#if log transformed twice, start with ln2\n",
    "#otherwise, assigns normal dictionary\n",
    "\n",
    "display(find_the_dictionary('ln1_ged_best_sb', dictionary_0 = ludicrous_dictionary, dictionary_log1 = ludicrous_1p,\n",
    "                           dictionary_log2 = ludicrous_2p))\n",
    "display(find_the_dictionary('its_lemon_time', dictionary_0 = ludicrous_dictionary, dictionary_log1 = ludicrous_1p,\n",
    "                           dictionary_log2 = ludicrous_2p))\n",
    "display(find_the_dictionary('ln2_so_many_lemons', dictionary_0 = ludicrous_dictionary, dictionary_log1 = ludicrous_1p,\n",
    "                           dictionary_log2 = ludicrous_2p))"
   ]
  }
 ],
 "metadata": {
  "kernelspec": {
   "display_name": "Python 3 (ipykernel)",
   "language": "python",
   "name": "python3"
  },
  "language_info": {
   "codemirror_mode": {
    "name": "ipython",
    "version": 3
   },
   "file_extension": ".py",
   "mimetype": "text/x-python",
   "name": "python",
   "nbconvert_exporter": "python",
   "pygments_lexer": "ipython3",
   "version": "3.9.13"
  }
 },
 "nbformat": 4,
 "nbformat_minor": 5
}
