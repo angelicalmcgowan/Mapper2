{
 "cells": [
  {
   "cell_type": "markdown",
   "id": "960c4048",
   "metadata": {},
   "source": [
    "# This notebook goes over the functions that live in LabelWriter\n",
    "\n",
    "Majority of the functions here have been created as quality of life to help create storage files, labels and simplify recursive runs\n",
    "\n",
    "Ensure that the version of mapper matches the latest version available as documented in the read me file"
   ]
  },
  {
   "cell_type": "code",
   "execution_count": null,
   "id": "6b10b6b1",
   "metadata": {},
   "outputs": [],
   "source": [
    "#mapper version verification\n",
    "!pip show views_mapper2"
   ]
  },
  {
   "cell_type": "code",
   "execution_count": null,
   "id": "7910c57c",
   "metadata": {},
   "outputs": [],
   "source": [
    "#import the portion of views_mapper2 that you are interested in\n",
    "from views_mapper2.label_writer import *"
   ]
  },
  {
   "cell_type": "code",
   "execution_count": null,
   "id": "8aa5308a",
   "metadata": {},
   "outputs": [],
   "source": [
    "#create a reference for this run, we will store everything on desktop for now\n",
    "import os\n",
    "home = os.path.expanduser(\"~\")\n",
    "desktop = home+'/Desktop'"
   ]
  },
  {
   "cell_type": "markdown",
   "id": "1b31e918",
   "metadata": {},
   "source": [
    "## folder creation"
   ]
  },
  {
   "cell_type": "code",
   "execution_count": null,
   "id": "8bf9e486",
   "metadata": {},
   "outputs": [],
   "source": [
    "#function 1, create a single folder\n",
    "\n",
    "#this function creates a folder of interest\n",
    "#specify folderpath as a string and use make_a_folder(string) function\n",
    "#note that a warning message will pop up if you try to create a folder that already exists\n",
    "\n",
    "working_folder = desktop + '/mapper2_showcase_delete_when_done'\n",
    "make_a_folder(working_folder)"
   ]
  },
  {
   "cell_type": "code",
   "execution_count": null,
   "id": "c64ef983",
   "metadata": {},
   "outputs": [],
   "source": [
    "#function 2, create a set of folder for monthly updates\n",
    "#function make_folders_complete_set creates a set of pre-determined folders for MonthlyUpdates\n",
    "#only need to specify the head folderpath/name and the subfolders within it will be created automatically\n",
    "#this function only has a use for MonthlyUpdateTeam\n",
    "monthly_update_example = working_folder + '/monthly_update_example'\n",
    "make_folders_complete_set(monthly_update_example)"
   ]
  },
  {
   "cell_type": "markdown",
   "id": "9e35cb4e",
   "metadata": {},
   "source": [
    "## Date look up, date conversions\n",
    "\n",
    "Several functions are available for writing dates in various formats from month_id (time identification in viewser)\n",
    "Or to convert dates from ISO format to month_id\n",
    "This is useful for quick lookup of information or for recursive code"
   ]
  },
  {
   "cell_type": "code",
   "execution_count": null,
   "id": "ea0da6d1",
   "metadata": {},
   "outputs": [],
   "source": [
    "#function 1, gives a date in year/month format from a month_id, useful for notation in graphs/maps\n",
    "vid2date(509)"
   ]
  },
  {
   "cell_type": "code",
   "execution_count": null,
   "id": "94ae8393",
   "metadata": {},
   "outputs": [],
   "source": [
    "#function 2, gives a date in year_month format from month_id, useful for savefile notation\n",
    "vid2date_version2(509)"
   ]
  },
  {
   "cell_type": "code",
   "execution_count": null,
   "id": "a07c1a08",
   "metadata": {},
   "outputs": [],
   "source": [
    "#function 3, easy lookup of month_id if you know date\n",
    "#this is a quality of life function that can sometimes be useful during data analysis\n",
    "#write date in ISO format as 'YEAR-MONTH-DAY'\n",
    "#note that day is not necessary but was needed to stick to iso format, use day=1\n",
    "\n",
    "date2id('2022-05-01')"
   ]
  },
  {
   "cell_type": "markdown",
   "id": "380e2648",
   "metadata": {},
   "source": [
    "## Country look up, country conversions\n",
    "\n",
    "Similar to dates, functionalities to look up country names or visa versa have been created\n",
    "Please note that since country_id is associated with month_id in viewser, one needs to input both"
   ]
  },
  {
   "cell_type": "code",
   "execution_count": null,
   "id": "65b75cc2",
   "metadata": {},
   "outputs": [],
   "source": [
    "#function 1, country id to name\n",
    "#useful for automatic notation creation in tables/maps/graphs or for quick lookup of countries\n",
    "cid2name(30)"
   ]
  },
  {
   "cell_type": "code",
   "execution_count": null,
   "id": "968985e4",
   "metadata": {},
   "outputs": [],
   "source": [
    "#function 2, country name to iso conversion\n",
    "#note that this function has a built in grey search for potential options that you might mean\n",
    "#success of suggestions is variable as seen below in Ivory Coast, UK, and America examples\n",
    "#if no matches are found and no grey options, check_spelling message appears\n",
    "\n",
    "display(name2iso('Cuba'))\n",
    "display(name2iso(\"Cote d'Ivoire\"))\n",
    "display(name2iso('Great Britain'))\n",
    "display(name2iso('England'))\n",
    "display(name2iso('America'))\n",
    "display(name2iso('Narnia'))"
   ]
  },
  {
   "cell_type": "code",
   "execution_count": null,
   "id": "c21bc009",
   "metadata": {},
   "outputs": [],
   "source": [
    "#function 3, convert name and month id into country_id\n",
    "#in case you get the name incorrectly same functionality as above is applied\n",
    "#date needs to be written in standard iso format year-month-day\n",
    "\n",
    "display(name_date2cid('Cuba', '2022-05-01'))\n",
    "display(name_date2cid(\"Cote d'Ivoire\", '2022-05-01'))\n",
    "display(name_date2cid('Narnia', '2022-05-01'))"
   ]
  },
  {
   "cell_type": "markdown",
   "id": "a81412ec",
   "metadata": {},
   "source": [
    "## Give me top X countries\n",
    "\n",
    "These functions can either be used inside other loops to for example create loops that make maps of the highest top 10 fatality countries or simply identifies them for your reference"
   ]
  },
  {
   "cell_type": "code",
   "execution_count": null,
   "id": "2b00f3f1",
   "metadata": {},
   "outputs": [],
   "source": [
    "#grab some data for experimentation\n",
    "from viewser import Queryset, Column\n",
    "\n",
    "queryset = (Queryset(\"Mapper_tester_cm\", \"country_month\")\n",
    "            # CONFLICT TYPES NOT LOGGED and NOT time lagged\n",
    "            .with_column(Column(\"ged_best_sb\", from_table=\"ged2_cm\", from_column=\"ged_sb_best_sum_nokgi\")\n",
    "                         .transform.missing.fill()\n",
    "                         )\n",
    "            # .with_column(Column('name', from_table='country', from_column= 'name')\n",
    "            # the above does not seem to want to work\n",
    "\n",
    "            .with_theme(\"fatalities\")\n",
    "\n",
    "            .describe(\"\"\"Fatalities conflict history, cm level\n",
    "            Mapper testing\n",
    "\n",
    "            \"\"\")\n",
    "\n",
    "            )\n",
    "\n",
    "cm_master = queryset.publish().fetch()"
   ]
  },
  {
   "cell_type": "code",
   "execution_count": null,
   "id": "86824b24",
   "metadata": {},
   "outputs": [],
   "source": [
    "#function 1, function that gives top 10 country_id in a given month\n",
    "#this can be useful for embedding/creating loops\n",
    "\n",
    "give_me_top10_country_id(df = cm_master, month_value = 510, var_name = 'ged_best_sb')"
   ]
  },
  {
   "cell_type": "code",
   "execution_count": null,
   "id": "574cd8c2",
   "metadata": {},
   "outputs": [],
   "source": [
    "#function 2, function that gives top 10 country names in a given month\n",
    "\n",
    "give_me_top10_names(df = cm_master, month_value = 510, var_name = 'ged_best_sb')"
   ]
  },
  {
   "cell_type": "code",
   "execution_count": null,
   "id": "42800b60",
   "metadata": {},
   "outputs": [],
   "source": [
    "#function 3, function that gives the cumulative top countries for a given period of time\n",
    "#e.g., if the sum of the variable from monthA to monthB are taken, which countries are the top\n",
    "#can modify which top X value you want, just the top 1 or top 5, etc.\n",
    "#note that setting a range of months to 1 and the number of top wanted to 10 gives same result as above\n",
    "#time_index is what variable is used as an index for time\n",
    "\n",
    "#note same output as above\n",
    "display(give_me_topX_country_id_cumulative(df=cm_master, time_index = 'month_id', number_wanted = 10,\n",
    "                                           variable = 'ged_best_sb', start = 510, end = 510))\n",
    "\n",
    "#top 5 for month 501-510\n",
    "display(give_me_topX_country_id_cumulative(df=cm_master, time_index = 'month_id', number_wanted = 5,\n",
    "                                           variable = 'ged_best_sb', start = 501, end = 510))\n"
   ]
  },
  {
   "cell_type": "code",
   "execution_count": null,
   "id": "198ba062",
   "metadata": {},
   "outputs": [],
   "source": [
    "#function 4, same function as function 3 but outputs names and not country_ids\n",
    "#note same output as above\n",
    "display(give_me_topX_country_names_cumulative(df=cm_master, time_index = 'month_id', number_wanted = 10,\n",
    "                                           variable = 'ged_best_sb', start = 510, end = 510))\n",
    "\n",
    "#top 5 for month 501-510\n",
    "display(give_me_topX_country_names_cumulative(df=cm_master, time_index = 'month_id', number_wanted = 5,\n",
    "                                           variable = 'ged_best_sb', start = 501, end = 510))\n"
   ]
  },
  {
   "cell_type": "markdown",
   "id": "aa71fbd1",
   "metadata": {},
   "source": [
    "## Determines violence type of a variable\n",
    "\n",
    "This function requres a very specific variable naming convention. \n",
    "This requires that the violence type is listed last and log transformation level is first\n",
    "\n",
    "e.g., ln1_ged_best_sb = log transformed 1 variable, state-based violence"
   ]
  },
  {
   "cell_type": "code",
   "execution_count": null,
   "id": "dac4c8c4",
   "metadata": {},
   "outputs": [],
   "source": [
    "#function 1, give you a human output for violence type, best used in titles, writing in graphic output\n",
    "display(find_the_violence_type('ged_best_sb'))\n",
    "display(find_the_violence_type('dummy_dummy_ns'))\n",
    "display(find_the_violence_type('ln1_dummy_dummmy_os'))"
   ]
  },
  {
   "cell_type": "code",
   "execution_count": null,
   "id": "7dec1d3b",
   "metadata": {},
   "outputs": [],
   "source": [
    "#function 2, give you a subscript name, best used in savefiles\n",
    "display(give_me_violence_string_label_only('ged_best_sb'))\n",
    "display(give_me_violence_string_label_only('dummy_dummy_ns'))\n",
    "display(give_me_violence_string_label_only('ln1_dummy_dummmy_os'))"
   ]
  },
  {
   "cell_type": "markdown",
   "id": "64e7716f",
   "metadata": {},
   "source": [
    "## Putting everything together"
   ]
  },
  {
   "cell_type": "code",
   "execution_count": null,
   "id": "754f95ec",
   "metadata": {},
   "outputs": [],
   "source": [
    "## Example of everything used above together\n",
    "\n",
    "import geopandas as gpd\n",
    "import sqlalchemy as sa\n",
    "from ingester3.config import source_db_path\n",
    "\n",
    "from views_mapper2.mapper2 import *\n",
    "\n",
    "from views_mapper2.dictionary_writer import *\n",
    "from views_mapper2.BBoxWriter import *\n",
    "\n",
    "engine = sa.create_engine(source_db_path)\n",
    "gdf_ci_master = gpd.GeoDataFrame.from_postgis(\n",
    "    \"SELECT id as country_id, name, in_africa, in_me, geom FROM prod.country\",\n",
    "    engine,\n",
    "    geom_col='geom'\n",
    ")\n",
    "gdf_ci_master = gdf_ci_master.to_crs(4326)"
   ]
  },
  {
   "cell_type": "code",
   "execution_count": null,
   "id": "4e92ca0c",
   "metadata": {},
   "outputs": [],
   "source": [
    "LabelWriterFolder = working_folder + '/LabelWriterShowOff'\n",
    "make_a_folder(LabelWriterFolder)\n",
    "\n",
    "data= cm_master.copy()\n",
    "\n",
    "#actuals data transformation\n",
    "data['ln1_ged_best_sb'] = np.log1p(data['ged_best_sb'])\n",
    "data['ln2_ged_best_sb'] = np.log1p(data['ln1_ged_best_sb'])\n",
    "\n",
    "#prep data\n",
    "gdf = gdf_ci_master.copy()\n",
    "data = data.join(gdf.set_index(\"country_id\"))\n",
    "gdf = gpd.GeoDataFrame(data, geometry=\"geom\")\n",
    "\n",
    "#this adds options for multiple month graphing, in this case we are only interested in EndOfHistory\n",
    "steps_loop = [410, 500] \n",
    "\n",
    "#specify steps of interest and variables of interest\n",
    "variable_loop = {'ged_best_sb', 'ln1_ged_best_sb', 'ln2_ged_best_sb'}\n",
    "\n",
    "\n",
    "#specify regions to map\n",
    "#requires either pre-set names like globe, ame or africa, or country_id in a numerical/integer format\n",
    "#if you do not know country_id, can use a country_id identifying function\n",
    "#name_mid2cid takes country name as string and month_id as integer\n",
    "#name_date2cid takes country name as string and date as iso_string\n",
    "geo_coverage_loop = ['globe', 'ame', name_mid2cid('Ukraine', 510), name_date2cid('Nigeria', '2022-08-01')]\n",
    "\n",
    "\n",
    "#transparency setting, on a 0-100% value, 0 for invisible and 1 for 100% opacity\n",
    "transparency_loop = [1]\n",
    "\n",
    "#background loop, in this case None\n",
    "background_loop = [None]\n",
    "\n",
    "for step in steps_loop:\n",
    "    for variable in variable_loop:\n",
    "        for region_name in geo_coverage_loop:\n",
    "                for transparency in transparency_loop:\n",
    "                    for background in background_loop:\n",
    "                        data_run = gdf.loc[step]\n",
    "                        var_run = variable\n",
    "                        var_name_run = find_the_violence_type(variable)\n",
    "                        var_run_savefile = give_me_violence_string_label_only(variable)\n",
    "                        bbox_run = bbox_from_cid(region_name)\n",
    "                        \n",
    "                        #the function below is explained separately in BBoxWriter and DictionaryWriter sections\n",
    "                        \n",
    "                        violence_dictionary = find_the_dictionary(variable, dictionary_0 = dictionary_stand, \n",
    "                                                                  dictionary_log1 = dictionary_stand_1p_10k, \n",
    "                                                                 dictionary_log2 = dictionary_stand_2p_10k)\n",
    "                        for dictionary_name, dictionary in violence_dictionary.items():\n",
    "                            dict_run_name = dictionary_name\n",
    "                            dict_run = dictionary\n",
    "                            \n",
    "                        transparency_run = transparency\n",
    "                        background_run = background\n",
    "                        \n",
    "                        \n",
    "                        #this turns on experimental font for cases without a background names and at country level\n",
    "                        #this is where it tends to work the best due to limited number of countries that are well spread\n",
    "                        #modify size to get better results and avoid collision of labels\n",
    "                        if str(region_name) in ('globe', 'ame', 'africa') or str(background) in ('OpenTopoMap', 'OpenStreetMap','StamenLite', 'StamenWatercolor','CartoDBPositron', 'CartoDBVoyager'): \n",
    "                            views_experimental_labels_font_size = None\n",
    "                        else: views_experimental_labels_font_size = 15\n",
    "                            \n",
    "                            \n",
    "                        #the following adjusts the size of the textbox, may need to be modified if the size of the output is changed\n",
    "                        if str(region_name) in('globe'):\n",
    "                            textbox_font_size = 10\n",
    "                        elif str(region_name) in ('ame', 'africa'):\n",
    "                            textbox_font_size = 20\n",
    "                        else:textbox_font_size = 15\n",
    "                        \n",
    "                        title_run = f'Actual fatalities in {str(vid2date(step))}, {var_name_run}, background {background_run}'\n",
    "                        textbox = f'Name: {var_run}_{str(step)}'\n",
    "                        savefile = f'{LabelWriterFolder}/ActualsMap_continuous_cm{var_run_savefile}_{region_name}_rainbow_s0_month{step}_{dict_run_name}_trans{transparency_run}_{background_run}.png'\n",
    "                        \n",
    "                        map_run=Mapper2(\n",
    "                            width=20,\n",
    "                            height=20,\n",
    "                            frame_on=True,\n",
    "                            title=title_run,\n",
    "                            bbox=bbox_run\n",
    "                        ).add_layer(\n",
    "                            gdf=data_run,\n",
    "                            map_dictionary=dict_run,\n",
    "                            cmap='rainbow',\n",
    "                            edgecolor=\"black\",\n",
    "                            linewidth=0.5,\n",
    "                            column=var_run,\n",
    "                            transparency = transparency_run,\n",
    "                            background = background_run,\n",
    "                            views_experimental_labels = views_experimental_labels_font_size\n",
    "                        ).add_views_textbox(\n",
    "                            text=textbox,\n",
    "                            textsize=textbox_font_size)\n",
    "                        \n",
    "                        map_run.save(savefile)"
   ]
  }
 ],
 "metadata": {
  "kernelspec": {
   "display_name": "Python 3 (ipykernel)",
   "language": "python",
   "name": "python3"
  },
  "language_info": {
   "codemirror_mode": {
    "name": "ipython",
    "version": 3
   },
   "file_extension": ".py",
   "mimetype": "text/x-python",
   "name": "python",
   "nbconvert_exporter": "python",
   "pygments_lexer": "ipython3",
   "version": "3.9.13"
  }
 },
 "nbformat": 4,
 "nbformat_minor": 5
}
